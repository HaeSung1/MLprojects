!pip install cohere
!pip install openai
!pip install -q git+https://github.com/openai/whisper.git

import torch
import whisper
from whisper.utils import get_writer
from pathlib import Path
from google.colab import drive
drive.mount('/content/drive')

DEVICE = "cuda" if torch.cuda.is_available() else "cpu"
model = whisper.load_model("medium.en").to(DEVICE)

model = whisper.load_model("base")
audio = '/content/drive/MyDrive/path/to/audio/file'

result = model.transcribe(audio, verbose = False, language = "en")
output_directory = "/content/drive/MyDrive/path/to/folder"

txt_writer = get_writer("txt", output_directory)
txt_writer(result, audio)
