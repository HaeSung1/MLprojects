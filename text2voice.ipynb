!pip install numpy
!pip install scipy
!pip install librosa
!pip install unidecode
!pip install inflect

import torch
from google.colab import drive
drive.mount('/content/drive')

tacotron2 = torch.hub.load('NVIDIA/DeepLearningExamples:torchhub', 'nvidia_tacotron2', model_math='fp16')
tacotron2 = tacotron2.to('cuda')
tacotron2.eval()

waveglow = torch.hub.load('NVIDIA/DeepLearningExamples:torchhub', 'nvidia_waveglow', model_math='fp16')
waveglow = waveglow.remove_weightnorm(waveglow)
waveglow = waveglow.to('cuda')
waveglow.eval()

text = "Hello world"

utils = torch.hub.load('NVIDIA/DeepLearningExamples:torchhub', 'nvidia_tts_utils')
sequences, lengths = utils.prepare_input_sequence([text])

with torch.no_grad():
    mel, _, _ = tacotron2.infer(sequences, lengths)
    audio = waveglow.infer(mel)
audio_numpy = audio[0].data.cpu().numpy()
rate = 22050

output_path = "/content/drive/MyDrive/path/to/audio/file"
from scipy.io.wavfile import write
write(output_path, rate, audio_numpy)

print(f"Audio file saved to: {output_path}")
